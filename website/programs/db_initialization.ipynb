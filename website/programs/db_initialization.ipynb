{
 "cells": [
  {
   "cell_type": "code",
   "execution_count": 91,
   "metadata": {},
   "outputs": [],
   "source": [
    "import os\n",
    "import json\n",
    "import time\n",
    "import numpy as np\n",
    "from pymongo import MongoClient\n",
    "import hashlib\n",
    "\n",
    "np.set_printoptions(precision=3, suppress=True)"
   ]
  },
  {
   "cell_type": "code",
   "execution_count": 92,
   "metadata": {},
   "outputs": [],
   "source": [
    "### Hyper-parameters\n",
    "MAX_ASSIGNMENT_PER_PAPER = 50"
   ]
  },
  {
   "cell_type": "code",
   "execution_count": 93,
   "metadata": {},
   "outputs": [
    {
     "name": "stdout",
     "output_type": "stream",
     "text": [
      "[['0' '9a7406852e81c171d4a603dfdf94459c'\n",
      "  '\"In-Group Love\" and \"Out-Group Hate\" as Motives for Individual Participation in Intergroup Conflict: A New Game Paradigm']\n",
      " ['1' 'f8774df3e8bffea0a84764dbc01d9c2e'\n",
      "  'A Motion Aftereffect From Still Photographs Depicting Motion']\n",
      " ['2' '05081fb9c40e685f7f6b5a74b0ae0f6a'\n",
      "  'A Word-Order Constraint on Phonological Activation']\n",
      " ['3' 'c87383f0427b9c9f3737b1f60b5c7625'\n",
      "  'Adaptive Memory: The Comparative Value of Survival Processing']\n",
      " ['4' 'b84d2ec4b5166f52f266069048a1f49d'\n",
      "  'Age-Related Changes in the Episodic Simulation of Future Events']\n",
      " ['5' 'ac2b9e26b0677adfc0f1d3ab8149f63d'\n",
      "  'Auditory Change Detection: Simple Sounds Are Not Memorized Better Than Complex Sounds']\n",
      " ['6' '504cf2fcda4895d881308c328208e0be'\n",
      "  'Conflict-Triggered Goal Shielding: Response Conflicts Attenuate Background Monitoring for Prospective Memory Cues']\n",
      " ['7' 'dcf0541a717b96328271ffa19457c1df'\n",
      "  'Creating Social Connection Through Inferential Reproduction: Loneliness and Perceived Agency in Gadgets, Gods, and Greyhounds']\n",
      " ['8' '3903c9b30e6fccc3312f0224274ab071'\n",
      "  'Detecting the Snake in the Grass: Attention to Fear-Relevant Stimuli by Adults and Young Children']\n",
      " ['9' '36d4d195006a3f2aa73c103076039840'\n",
      "  'Effects of Fluency on Psychological Distance and Mental Construal (or Why New York Is a Large City, but <i>New York</i> Is a Civilized Jungle)']\n",
      " ['10' '9310ba6ec6ff5e98439f21cca06245a4'\n",
      "  'Errors Are Aversive: Defensive Motivation and the Error-Related Negativity']\n",
      " ['11' '3800b94f1dfda89aeff56e3e618846b2'\n",
      "  'Extremal Edge: A Powerful Cue to Depth Perception and Figure-Ground Organization']\n",
      " ['12' 'd66cdf853e5e5a0a08ad30784114c48f'\n",
      "  \"Head Up, Foot Down: Object Words Orient Attention to the Objects' Typical Location\"]\n",
      " ['13' 'f842029b9495d6ae42d74fcb45064396'\n",
      "  'Hedonic and Instrumental Motives in Anger Regulation']\n",
      " ['14' '8e1c03e640feadeb630a4e70ee936257'\n",
      "  'Implicit Attitude Generalization Occurs Immediately; Explicit Attitude Generalization Takes Time']\n",
      " ['15' 'a00ddc2466a3bae0ee67f8cfb544268a'\n",
      "  'Is Happiness Having What You Want, Wanting What You Have, or Both?']\n",
      " ['16' '72c0ee111e2750c435b0d526e105aa8f'\n",
      "  \"Keeping One's Distance: The Influence of Spatial Distance Cues on Affect and Evaluation\"]\n",
      " ['17' '2a41fdd789d06b43425f4bdea6c6231c'\n",
      "  'More Than Meets the Eye: The Role of Language in Binding and Maintaining Feature Conjunctions']\n",
      " ['18' 'a4b670b8dec214cce990f129788b82ba'\n",
      "  'Nonconscious Goal Pursuit in Novel Environments: The Case of Implicit Learning']\n",
      " ['19' 'abaa0d4bbaf9871e6496a8aa5d2c211c'\n",
      "  \"Perceptual Mechanisms That Characterize Gender Differences in Decoding Women's Sexual Intent\"]\n",
      " ['20' '59099d005af73dce56a925186e9fb86d'\n",
      "  'Personality Dominance and Preferential Use of the Vertical Dimension of Space: Evidence From Spatial Attention Paradigms']\n",
      " ['21' '71f3be1f8eb3c8e39c085035c0b5d137'\n",
      "  'Precision of the Anchor Influences the Amount of Adjustment']\n",
      " ['22' '26e8c2a6f86189f3de9bd9b50740b514'\n",
      "  \"Preschoolers' Perspective Taking in Word Learning: Do They Blindly Follow Eye Gaze?\"]\n",
      " ['23' 'f1278c3735a1dc8825bbdd920d307363'\n",
      "  'Sensitivity to Object Viewpoint and Action Instructions During Search for Targets in the Lower Visual Field']\n",
      " ['24' 'b7694d121ac74946bb0722d041733097'\n",
      "  'Temporal Selection is Suppressed, Delayed, and Diffused During the Attentional Blink']\n",
      " ['25' '2ab9f2b7ff9babd6e8d6d6844150f06d'\n",
      "  'The Best Men Are (Not Always) Already Taken: Female Preference for Single Versus Attached Males Depends on Conception Risk']\n",
      " ['26' 'cc0bb8a26cb8809dcc15547966952569'\n",
      "  'The Representation of Simple Ensemble Visual Features Outside the Focus of Attention']\n",
      " ['27' '78d39e67726592afc3d9cc03c7813831'\n",
      "  'The Sunny Side of Fairness: Preference for Fairness Activates Reward Circuitry (and Disregarding Unfairness Activates Self-Control Circuitry)']\n",
      " ['28' 'ff6f79eb77cf9ed32de6924dda93c451'\n",
      "  'The Threat of Appearing Prejudiced and Race-Based Attentional Biases']\n",
      " ['29' '9b8f0a7d00b6ed03bab3c8688f990e2b'\n",
      "  'The Value of Believing in Free Will: Encouraging a Belief in Determinism Increases Cheating']\n",
      " ['30' '8b7fb7fb8bb7b51fa5643891b5bb1368'\n",
      "  'Toward a Physiology of Dual-Process Reasoning and Judgment: Lemonade, Willpower, and Expensive Rule-Based Analysis']\n",
      " ['31' '42cfa5e4a5d344b518d973bd62958fff'\n",
      "  'What Do Cross-National Comparisons of Personality Traits Tell Us?: The Case of Conscientiousness']\n",
      " ['32' 'e9f615ebd5f061708e70dc8f9a52d833'\n",
      "  'With a Clean Conscience: Cleanliness Reduces the Severity of Moral Judgments']]\n",
      "33\n"
     ]
    }
   ],
   "source": [
    "dire = \"../public/paper_data/title/\"\n",
    "paper_md5_id_list = []\n",
    "paper_exp_id_list = []\n",
    "paper_title_list = []\n",
    "for file_name in np.sort(os.listdir(dire)):\n",
    "    if file_name.startswith(\"[title]\"):\n",
    "        file = open(dire+file_name, 'r')\n",
    "        title = file.read()\n",
    "        file.close()\n",
    "        paper_title_list.append(title)\n",
    "        paper_exp_id_list.append(int(file_name[7:-4]))\n",
    "        paper_md5_id_list.append(hashlib.md5(title.encode()).hexdigest())\n",
    "#        print(file_name)\n",
    "#        print(title)\n",
    "\n",
    "paper_md5_id_list = np.array(paper_md5_id_list, dtype=str)\n",
    "paper_title_list = np.array(paper_title_list, dtype=str)\n",
    "paper_exp_id_list = np.array(paper_exp_id_list)\n",
    "\n",
    "paper_order = np.argsort(paper_exp_id_list)\n",
    "paper_md5_id_list = paper_md5_id_list[paper_order]\n",
    "paper_exp_id_list = paper_exp_id_list[paper_order]\n",
    "paper_title_list = paper_title_list[paper_order]\n",
    "\n",
    "print(np.vstack((paper_exp_id_list, paper_md5_id_list, paper_title_list)).T)\n",
    "#print(paper_md5_id_list)\n",
    "print(len(paper_title_list))"
   ]
  },
  {
   "cell_type": "code",
   "execution_count": 94,
   "metadata": {},
   "outputs": [],
   "source": [
    "# connect to DB:meteor and fetch the handle of collection:wageringPM\n",
    "connection = MongoClient(\"mongodb://127.0.0.1:3001/meteor\")\n"
   ]
  },
  {
   "cell_type": "code",
   "execution_count": 95,
   "metadata": {},
   "outputs": [
    {
     "name": "stdout",
     "output_type": "stream",
     "text": [
      "0 \"In-Group Love\" and \"Out-Group Hate\" as Motives for Individual Participation in Intergroup Conflict: A New Game Paradigm\n",
      "1 A Motion Aftereffect From Still Photographs Depicting Motion\n",
      "2 A Word-Order Constraint on Phonological Activation\n",
      "3 Adaptive Memory: The Comparative Value of Survival Processing\n",
      "4 Age-Related Changes in the Episodic Simulation of Future Events\n",
      "5 Auditory Change Detection: Simple Sounds Are Not Memorized Better Than Complex Sounds\n",
      "6 Conflict-Triggered Goal Shielding: Response Conflicts Attenuate Background Monitoring for Prospective Memory Cues\n",
      "7 Creating Social Connection Through Inferential Reproduction: Loneliness and Perceived Agency in Gadgets, Gods, and Greyhounds\n",
      "8 Detecting the Snake in the Grass: Attention to Fear-Relevant Stimuli by Adults and Young Children\n",
      "9 Effects of Fluency on Psychological Distance and Mental Construal (or Why New York Is a Large City, but <i>New York</i> Is a Civilized Jungle)\n",
      "10 Errors Are Aversive: Defensive Motivation and the Error-Related Negativity\n",
      "11 Extremal Edge: A Powerful Cue to Depth Perception and Figure-Ground Organization\n",
      "12 Head Up, Foot Down: Object Words Orient Attention to the Objects' Typical Location\n",
      "13 Hedonic and Instrumental Motives in Anger Regulation\n",
      "14 Implicit Attitude Generalization Occurs Immediately; Explicit Attitude Generalization Takes Time\n",
      "15 Is Happiness Having What You Want, Wanting What You Have, or Both?\n",
      "16 Keeping One's Distance: The Influence of Spatial Distance Cues on Affect and Evaluation\n",
      "17 More Than Meets the Eye: The Role of Language in Binding and Maintaining Feature Conjunctions\n",
      "18 Nonconscious Goal Pursuit in Novel Environments: The Case of Implicit Learning\n",
      "19 Perceptual Mechanisms That Characterize Gender Differences in Decoding Women's Sexual Intent\n",
      "20 Personality Dominance and Preferential Use of the Vertical Dimension of Space: Evidence From Spatial Attention Paradigms\n",
      "21 Precision of the Anchor Influences the Amount of Adjustment\n",
      "22 Preschoolers' Perspective Taking in Word Learning: Do They Blindly Follow Eye Gaze?\n",
      "23 Sensitivity to Object Viewpoint and Action Instructions During Search for Targets in the Lower Visual Field\n",
      "24 Temporal Selection is Suppressed, Delayed, and Diffused During the Attentional Blink\n",
      "25 The Best Men Are (Not Always) Already Taken: Female Preference for Single Versus Attached Males Depends on Conception Risk\n",
      "26 The Representation of Simple Ensemble Visual Features Outside the Focus of Attention\n",
      "27 The Sunny Side of Fairness: Preference for Fairness Activates Reward Circuitry (and Disregarding Unfairness Activates Self-Control Circuitry)\n",
      "28 The Threat of Appearing Prejudiced and Race-Based Attentional Biases\n",
      "29 The Value of Believing in Free Will: Encouraging a Belief in Determinism Increases Cheating\n",
      "30 Toward a Physiology of Dual-Process Reasoning and Judgment: Lemonade, Willpower, and Expensive Rule-Based Analysis\n",
      "31 What Do Cross-National Comparisons of Personality Traits Tell Us?: The Case of Conscientiousness\n",
      "32 With a Clean Conscience: Cleanliness Reduces the Severity of Moral Judgments\n"
     ]
    },
    {
     "data": {
      "text/plain": [
       "<pymongo.results.InsertOneResult at 0x7fd8c36bfc88>"
      ]
     },
     "execution_count": 95,
     "metadata": {},
     "output_type": "execute_result"
    }
   ],
   "source": [
    "# recreate the collection\n",
    "clc = connection.meteor.paper\n",
    "clc.drop()\n",
    "for i in range(len(paper_title_list)):\n",
    "    print(paper_exp_id_list[i], paper_title_list[i])\n",
    "    entry = {\"paper_md5_id\": paper_md5_id_list[i],\n",
    "             \"paper_title\": paper_title_list[i], \n",
    "             \"paper_exp_id\": int(paper_exp_id_list[i]),\n",
    "             \"paper_assigned_as_first_exp_paper\": int(0),\n",
    "             \"paper_completed_as_first_exp_paper\": int(0),\n",
    "             \"paper_assigned\": int(0),\n",
    "             \"paper_completed\": int(0),\n",
    "             \"paper_max_completion\": int(MAX_ASSIGNMENT_PER_PAPER) \n",
    "            }\n",
    "    clc.insert_one(entry)\n",
    "    \n",
    "clc_hyper_para = connection.meteor.hyperparameter\n",
    "clc_hyper_para.drop()\n",
    "clc_hyper_para.insert_one({'maximum_pairwise_assignment_per_user': 3})"
   ]
  },
  {
   "cell_type": "code",
   "execution_count": null,
   "metadata": {},
   "outputs": [],
   "source": []
  },
  {
   "cell_type": "code",
   "execution_count": 85,
   "metadata": {},
   "outputs": [],
   "source": [
    "clc.drop()\n",
    "for i in range(8):\n",
    "    entry = {\"paper_md5_id\": \"md5_\"+str(i),\n",
    "             \"paper_title\": \"title_\"+str(i), \n",
    "             \"paper_exp_id\": int(paper_exp_id_list[i]),\n",
    "             \"paper_assigned_as_first_exp_paper\": int(0),\n",
    "             \"paper_completed_as_first_exp_paper\": int(0),\n",
    "             \"paper_assigned\": int(0),\n",
    "             \"paper_completed\": int(0),\n",
    "             \"paper_max_completion\": 10\n",
    "            }\n",
    "    clc.insert_one(entry)\n",
    "\n",
    "clc_hyper_para = connection.meteor.hyperparameter\n",
    "clc_hyper_para.drop()\n",
    "clc_hyper_para.insert_one({'maximum_pairwise_assignment_per_user': 3})\n",
    "#connection.meteor.userHistory.drop()"
   ]
  },
  {
   "cell_type": "code",
   "execution_count": null,
   "metadata": {},
   "outputs": [],
   "source": []
  },
  {
   "cell_type": "code",
   "execution_count": null,
   "metadata": {},
   "outputs": [],
   "source": []
  }
 ],
 "metadata": {
  "kernelspec": {
   "display_name": "Python 3",
   "language": "python",
   "name": "python3"
  },
  "language_info": {
   "codemirror_mode": {
    "name": "ipython",
    "version": 3
   },
   "file_extension": ".py",
   "mimetype": "text/x-python",
   "name": "python",
   "nbconvert_exporter": "python",
   "pygments_lexer": "ipython3",
   "version": "3.6.8"
  }
 },
 "nbformat": 4,
 "nbformat_minor": 2
}
